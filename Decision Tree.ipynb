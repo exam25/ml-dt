{
 "cells": [
  {
   "cell_type": "code",
   "execution_count": null,
   "id": "9bc2e171",
   "metadata": {},
   "outputs": [],
   "source": [
    "import pandas as pd\n",
    "from sklearn.model_selection import train_test_split\n",
    "from sklearn.tree import DecisionTreeClassifier\n",
    "from sklearn.metrics import confusion_matrix, classification_report\n",
    "\n",
    "\n",
    "data = pd.read_csv('zoo_data.csv')\n",
    "\n",
    "# Split the dataset into features and target variable\n",
    "X = data.iloc[:, 1:-1]\n",
    "y = data.iloc[:, -1]\n",
    "\n",
    "# Split the dataset into training set and test set\n",
    "X_train, X_test, y_train, y_test = train_test_split(X, y, test_size=0.2, random_state=1)\n",
    "\n",
    "# Create a Decision Tree Classifier object\n",
    "clf = DecisionTreeClassifier()\n",
    "\n",
    "# Train the model using the training sets\n",
    "clf.fit(X_train, y_train)\n",
    "\n",
    "\n",
    "# Predict the response for test dataset\n",
    "y_pred = clf.predict(X_test)\n",
    "\n",
    "# Create a confusion matrix\n",
    "cm = confusion_matrix(y_test, y_pred)\n",
    "\n",
    "# Print the confusion matrix\n",
    "print(\"Confusion Matrix:\")\n",
    "print(cm)\n",
    "\n",
    "# Print the classification report\n",
    "cr = classification_report(y_test, y_pred)\n",
    "print(\"Classification Report:\")\n",
    "print(cr)\n",
    "\n",
    "# Visualize the Decision Tree with a simplified text representation\n",
    "from sklearn.tree import export_text\n",
    "tree_text = export_text(clf, feature_names=list(X.columns))\n",
    "print(\"Decision Tree:\")\n",
    "print(tree_text)\n"
   ]
  },
  {
   "cell_type": "code",
   "execution_count": null,
   "id": "26f4c1d6",
   "metadata": {},
   "outputs": [],
   "source": []
  }
 ],
 "metadata": {
  "kernelspec": {
   "display_name": "Python 3 (ipykernel)",
   "language": "python",
   "name": "python3"
  },
  "language_info": {
   "codemirror_mode": {
    "name": "ipython",
    "version": 3
   },
   "file_extension": ".py",
   "mimetype": "text/x-python",
   "name": "python",
   "nbconvert_exporter": "python",
   "pygments_lexer": "ipython3",
   "version": "3.11.4"
  }
 },
 "nbformat": 4,
 "nbformat_minor": 5
}
